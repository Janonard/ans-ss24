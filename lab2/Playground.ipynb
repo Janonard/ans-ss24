{
 "cells": [
  {
   "cell_type": "code",
   "execution_count": 1,
   "metadata": {},
   "outputs": [],
   "source": [
    "import topo"
   ]
  },
  {
   "cell_type": "code",
   "execution_count": 2,
   "metadata": {},
   "outputs": [],
   "source": [
    "topo = topo.Fattree(4)"
   ]
  },
  {
   "cell_type": "code",
   "execution_count": 3,
   "metadata": {},
   "outputs": [],
   "source": [
    "source = topo.servers[0]\n",
    "sink = topo.servers[-1]"
   ]
  },
  {
   "cell_type": "code",
   "execution_count": 4,
   "metadata": {},
   "outputs": [
    {
     "data": {
      "text/plain": [
       "[Node h0, Node s4, Node s6, Node s0, Node s18, Node s17, Node h15]"
      ]
     },
     "execution_count": 4,
     "metadata": {},
     "output_type": "execute_result"
    }
   ],
   "source": [
    "topo.single_source_shortest_paths(source)[sink]"
   ]
  },
  {
   "cell_type": "code",
   "execution_count": 5,
   "metadata": {},
   "outputs": [
    {
     "ename": "KeyError",
     "evalue": "Node h15",
     "output_type": "error",
     "traceback": [
      "\u001b[0;31m---------------------------------------------------------------------------\u001b[0m",
      "\u001b[0;31mKeyError\u001b[0m                                  Traceback (most recent call last)",
      "Cell \u001b[0;32mIn[5], line 1\u001b[0m\n\u001b[0;32m----> 1\u001b[0m \u001b[43mtopo\u001b[49m\u001b[38;5;241;43m.\u001b[39;49m\u001b[43mk_shortest_paths\u001b[49m\u001b[43m(\u001b[49m\u001b[43mtopo\u001b[49m\u001b[38;5;241;43m.\u001b[39;49m\u001b[43mservers\u001b[49m\u001b[43m[\u001b[49m\u001b[38;5;241;43m0\u001b[39;49m\u001b[43m]\u001b[49m\u001b[43m,\u001b[49m\u001b[43m \u001b[49m\u001b[43mtopo\u001b[49m\u001b[38;5;241;43m.\u001b[39;49m\u001b[43mservers\u001b[49m\u001b[43m[\u001b[49m\u001b[38;5;241;43m-\u001b[39;49m\u001b[38;5;241;43m1\u001b[39;49m\u001b[43m]\u001b[49m\u001b[43m,\u001b[49m\u001b[43m \u001b[49m\u001b[38;5;241;43m8\u001b[39;49m\u001b[43m)\u001b[49m\n",
      "File \u001b[0;32m/vagrant/lab2/topo.py:205\u001b[0m, in \u001b[0;36mTopology.k_shortest_paths\u001b[0;34m(self, source, sink, k)\u001b[0m\n\u001b[1;32m    202\u001b[0m         removed_edges\u001b[38;5;241m.\u001b[39mappend((edge\u001b[38;5;241m.\u001b[39mlnode, edge\u001b[38;5;241m.\u001b[39mrnode))\n\u001b[1;32m    203\u001b[0m         root_path_node\u001b[38;5;241m.\u001b[39mremove_edge(edge)\n\u001b[0;32m--> 205\u001b[0m B\u001b[38;5;241m.\u001b[39mappend(root_path \u001b[38;5;241m+\u001b[39m \u001b[38;5;28;43mself\u001b[39;49m\u001b[38;5;241;43m.\u001b[39;49m\u001b[43msingle_source_shortest_paths\u001b[49m\u001b[43m(\u001b[49m\u001b[43msource\u001b[49m\u001b[43m)\u001b[49m\u001b[43m[\u001b[49m\u001b[43msink\u001b[49m\u001b[43m]\u001b[49m)\n\u001b[1;32m    207\u001b[0m \u001b[38;5;28;01mfor\u001b[39;00m (lnode, rnode) \u001b[38;5;129;01min\u001b[39;00m removed_edges:\n\u001b[1;32m    208\u001b[0m     lnode\u001b[38;5;241m.\u001b[39madd_edge(rnode)\n",
      "\u001b[0;31mKeyError\u001b[0m: Node h15"
     ]
    }
   ],
   "source": [
    "topo.k_shortest_paths(topo.servers[0], topo.servers[-1], 8)"
   ]
  }
 ],
 "metadata": {
  "kernelspec": {
   "display_name": "Python 3",
   "language": "python",
   "name": "python3"
  },
  "language_info": {
   "codemirror_mode": {
    "name": "ipython",
    "version": 3
   },
   "file_extension": ".py",
   "mimetype": "text/x-python",
   "name": "python",
   "nbconvert_exporter": "python",
   "pygments_lexer": "ipython3",
   "version": "3.8.10"
  }
 },
 "nbformat": 4,
 "nbformat_minor": 2
}
